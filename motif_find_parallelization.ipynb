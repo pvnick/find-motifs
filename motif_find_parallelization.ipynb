{
 "metadata": {
  "name": ""
 },
 "nbformat": 3,
 "nbformat_minor": 0,
 "worksheets": [
  {
   "cells": [
    {
     "cell_type": "code",
     "collapsed": false,
     "input": [
      "import numpy as np"
     ],
     "language": "python",
     "metadata": {},
     "outputs": [],
     "prompt_number": 2
    },
    {
     "cell_type": "code",
     "collapsed": false,
     "input": [
      "n = 1600000.0\n",
      "m = 100.0\n",
      "q = n - 2*m + 1\n",
      "i = 5.0\n",
      "b = q * (q+1.0) / 2.0\n",
      "p = 8 #8.0\n",
      "r = 2"
     ],
     "language": "python",
     "metadata": {},
     "outputs": [],
     "prompt_number": 76
    },
    {
     "cell_type": "code",
     "collapsed": false,
     "input": [
      "(np.sqrt(4.0 * a**2 * p - 4.0 * a * (2.0 * p * q + p) + 4.0 * p * q * (q + 1.0) + r ) / (2.0 * np.sqrt(r)) + q + 1./2.)"
     ],
     "language": "python",
     "metadata": {},
     "outputs": [
      {
       "metadata": {},
       "output_type": "pyout",
       "prompt_number": 41,
       "text": [
        "6124709.3146738252"
       ]
      }
     ],
     "prompt_number": 41
    },
    {
     "cell_type": "code",
     "collapsed": false,
     "input": [
      "(np.sqrt(p) * (1.0+2.0 *q)+np.sqrt(p+4.0 * (-b+b**2+q-2.0* b* q+q**2)* r))/(2.0* np.sqrt(p)) "
     ],
     "language": "python",
     "metadata": {},
     "outputs": [
      {
       "metadata": {},
       "output_type": "pyout",
       "prompt_number": 42,
       "text": [
        "2165416.7446013987"
       ]
      }
     ],
     "prompt_number": 42
    },
    {
     "cell_type": "code",
     "collapsed": false,
     "input": [
      "a = i\n",
      "1/2 * (np.sqrt(4* a**2 *p - 4* a* (2* p* q + p)+4* p* q* (q+1) + 1)+2* q+1)"
     ],
     "language": "python",
     "metadata": {},
     "outputs": [
      {
       "metadata": {},
       "output_type": "pyout",
       "prompt_number": 18,
       "text": [
        "0.0"
       ]
      }
     ],
     "prompt_number": 18
    },
    {
     "cell_type": "code",
     "collapsed": false,
     "input": [
      "def foobar(rank, num_procs):\n",
      "    rank = float(rank)\n",
      "    num_procs = float(num_procs)\n",
      "    c = b * rank / num_procs\n",
      "    return -1.0/2.0* np.sqrt(8.0* c+1.0)+q+1.0/2.0"
     ],
     "language": "python",
     "metadata": {},
     "outputs": [],
     "prompt_number": 118
    },
    {
     "cell_type": "code",
     "collapsed": false,
     "input": [
      "def baz(rank): #number of query windows to examine\n",
      "    num_procs = 8\n",
      "    return foobar(rank, num_procs) - foobar(rank + 1, num_procs)\n",
      "\n",
      "baz(6) # + baz(1) + baz(2) + baz(3) + baz(4) + baz(5) + baz(6) + baz(7)\n",
      "foobar(0,2) - foobar(1,2)"
     ],
     "language": "python",
     "metadata": {},
     "outputs": [
      {
       "metadata": {},
       "output_type": "pyout",
       "prompt_number": 130,
       "text": [
        "1131229.9892024659"
       ]
      }
     ],
     "prompt_number": 130
    },
    {
     "cell_type": "code",
     "collapsed": false,
     "input": [
      "num_queries(0, 8) \\\n",
      " + num_queries(1, 8) \\\n",
      " + num_queries(2, 8) \\\n",
      " + num_queries(3, 8) \\\n",
      " + num_queries(4, 8) \\\n",
      " + num_queries(5, 8) \\\n",
      " + num_queries(6, 8) \\\n",
      " + num_queries(7, 8)"
     ],
     "language": "python",
     "metadata": {},
     "outputs": [
      {
       "metadata": {},
       "output_type": "pyout",
       "prompt_number": 61,
       "text": [
        "1279682419701.0"
       ]
      }
     ],
     "prompt_number": 61
    },
    {
     "cell_type": "code",
     "collapsed": false,
     "input": [
      "c = b * 7 / 8\n",
      "-1.0/2.0* np.sqrt(8.0* c+1.0)+q+1.0/2.0"
     ],
     "language": "python",
     "metadata": {},
     "outputs": [],
     "prompt_number": 94
    },
    {
     "cell_type": "code",
     "collapsed": false,
     "input": [
      "1.0/2.0 * (1.0 + np.sqrt(1.0+8.0 * b)+2.0* q)"
     ],
     "language": "python",
     "metadata": {},
     "outputs": [
      {
       "metadata": {},
       "output_type": "pyout",
       "prompt_number": 95,
       "text": [
        "3199603.0"
       ]
      }
     ],
     "prompt_number": 95
    },
    {
     "cell_type": "code",
     "collapsed": false,
     "input": [
      "-1.0/2.0* np.sqrt(8.0* c+1.0)+q+1.0/2.0"
     ],
     "language": "python",
     "metadata": {},
     "outputs": [
      {
       "metadata": {},
       "output_type": "pyout",
       "prompt_number": 96,
       "text": [
        "0.0"
       ]
      }
     ],
     "prompt_number": 96
    },
    {
     "cell_type": "code",
     "collapsed": false,
     "input": [
      "(q - 3199603.) * (q - 3199603. + 1) / 2"
     ],
     "language": "python",
     "metadata": {},
     "outputs": [
      {
       "metadata": {},
       "output_type": "pyout",
       "prompt_number": 72,
       "text": [
        "1279682419701.0"
       ]
      }
     ],
     "prompt_number": 72
    },
    {
     "cell_type": "code",
     "collapsed": false,
     "input": [
      "np.sqrt(1.0+8.0 * b)"
     ],
     "language": "python",
     "metadata": {},
     "outputs": [
      {
       "metadata": {},
       "output_type": "pyout",
       "prompt_number": 82,
       "text": [
        "3199603.0"
       ]
      }
     ],
     "prompt_number": 82
    },
    {
     "cell_type": "code",
     "collapsed": false,
     "input": [
      "1.0+8.0 * b"
     ],
     "language": "python",
     "metadata": {},
     "outputs": [
      {
       "metadata": {},
       "output_type": "pyout",
       "prompt_number": 86,
       "text": [
        "10237459357609.0"
       ]
      }
     ],
     "prompt_number": 86
    },
    {
     "cell_type": "code",
     "collapsed": false,
     "input": [
      "a = -1/2 sqrt(8 c+1)+q+1/2 ~~ -0.50000 sqrt(8.0000 c+1.0000)+q+0.50000"
     ],
     "language": "python",
     "metadata": {},
     "outputs": []
    }
   ],
   "metadata": {}
  }
 ]
}